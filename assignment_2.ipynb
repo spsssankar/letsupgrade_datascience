{
 "cells": [
  {
   "cell_type": "code",
   "execution_count": null,
   "metadata": {},
   "outputs": [],
   "source": [
    "# 1.\n",
    "\n",
    "l = []\n",
    "i = 0\n",
    "while i< 10:\n",
    "    j = int(input())\n",
    "    i+=1\n",
    "    if j%2 == 0:\n",
    "        l.append(j)\n",
    "        "
   ]
  },
  {
   "cell_type": "raw",
   "metadata": {},
   "source": [
    "2. List comprehension is used to generate a list using an iterator as the basis for the list being created.They consist of      brackets containing the expression, which is executed for each element along with the for loop to iterate over each element. Syntax: new_list = (value for_loop condition) "
   ]
  },
  {
   "cell_type": "code",
   "execution_count": 4,
   "metadata": {},
   "outputs": [
    {
     "name": "stdout",
     "output_type": "stream",
     "text": [
      "[3, 6, 9, 12, 15, 18, 21, 24, 27]\n"
     ]
    }
   ],
   "source": [
    "#EG of List Comprehension\n",
    "\n",
    "numbers = [1,2,3,4,5,6,7,8,9]\n",
    "\n",
    "N = [n*3 for n in numbers]\n",
    "print(N)"
   ]
  },
  {
   "cell_type": "code",
   "execution_count": 5,
   "metadata": {},
   "outputs": [
    {
     "ename": "IndentationError",
     "evalue": "unexpected indent (<ipython-input-5-944315ec5101>, line 2)",
     "output_type": "error",
     "traceback": [
      "\u001b[1;36m  File \u001b[1;32m\"<ipython-input-5-944315ec5101>\"\u001b[1;36m, line \u001b[1;32m2\u001b[0m\n\u001b[1;33m    d = {}\u001b[0m\n\u001b[1;37m    ^\u001b[0m\n\u001b[1;31mIndentationError\u001b[0m\u001b[1;31m:\u001b[0m unexpected indent\n"
     ]
    }
   ],
   "source": [
    "# 3.\n",
    "\n",
    "d = {}\n",
    "j = int(input())\n",
    "i = 0\n",
    "while i < j :\n",
    "    i+=1\n",
    "    d.update({i:i*i})\n",
    "print(d)"
   ]
  },
  {
   "cell_type": "code",
   "execution_count": 3,
   "metadata": {},
   "outputs": [
    {
     "name": "stdout",
     "output_type": "stream",
     "text": [
      "4\n",
      "UP 5\n",
      "DOWN 3\n",
      "LEFT 3\n",
      "RIGHT 2\n",
      "2\n",
      "2.23606797749979\n"
     ]
    }
   ],
   "source": [
    "# 4.\n",
    "\n",
    "import math\n",
    "n = int(input())\n",
    "i = 0\n",
    "x=0\n",
    "y=0\n",
    "while i < n :\n",
    "    i+=1\n",
    "    d = input().split(' ')\n",
    "    if(d[0] == 'UP'):\n",
    "        y+=int(d[1])\n",
    "    elif(d[0] == 'DOWN'):\n",
    "        y-=int(d[1])\n",
    "    elif(d[0] == 'RIGHT'):\n",
    "        x+=int(d[1])\n",
    "    elif(d[0] == 'LEFT'):\n",
    "        x-=int(d[1])\n",
    "print(round(math.sqrt(pow(x,2)+pow(y,2))))"
   ]
  }
 ],
 "metadata": {
  "kernelspec": {
   "display_name": "Python 3",
   "language": "python",
   "name": "python3"
  },
  "language_info": {
   "codemirror_mode": {
    "name": "ipython",
    "version": 3
   },
   "file_extension": ".py",
   "mimetype": "text/x-python",
   "name": "python",
   "nbconvert_exporter": "python",
   "pygments_lexer": "ipython3",
   "version": "3.8.3"
  }
 },
 "nbformat": 4,
 "nbformat_minor": 4
}
