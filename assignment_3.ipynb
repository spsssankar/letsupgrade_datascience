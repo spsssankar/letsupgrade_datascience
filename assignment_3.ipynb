{
 "cells": [
  {
   "cell_type": "code",
   "execution_count": 2,
   "metadata": {},
   "outputs": [],
   "source": [
    "import numpy as np"
   ]
  },
  {
   "cell_type": "code",
   "execution_count": 7,
   "metadata": {},
   "outputs": [
    {
     "data": {
      "text/plain": [
       "array([ 2,  5,  8, 11, 14, 17, 20, 23, 26, 29, 32, 35, 38, 41, 44, 47])"
      ]
     },
     "execution_count": 7,
     "metadata": {},
     "output_type": "execute_result"
    }
   ],
   "source": [
    "# 1.\n",
    "\n",
    "np.arange(2,50,3)"
   ]
  },
  {
   "cell_type": "code",
   "execution_count": 7,
   "metadata": {},
   "outputs": [
    {
     "name": "stdout",
     "output_type": "stream",
     "text": [
      "1\n",
      "2\n",
      "3\n",
      "4\n",
      "[1 2 3 4]\n"
     ]
    }
   ],
   "source": [
    "# 2.\n",
    "\n",
    "l1 = []\n",
    "l2 = []\n",
    "i = 0\n",
    "while i < 2:\n",
    "    i+=1\n",
    "    l1.append(int(input()))\n",
    "    \n",
    "i = 0\n",
    "while i < 2:\n",
    "    i+=1\n",
    "    l2.append(int(input()))\n",
    "    \n",
    "n1 = np.array(l1)\n",
    "n2 = np.array(l2)\n",
    "n3 = np.append(n1,n2)\n",
    "print(n3)"
   ]
  },
  {
   "cell_type": "code",
   "execution_count": 10,
   "metadata": {},
   "outputs": [
    {
     "name": "stdout",
     "output_type": "stream",
     "text": [
      "1\n",
      "4\n"
     ]
    }
   ],
   "source": [
    "# 3. \n",
    "\n",
    "n1 = np.array([1,2,3,4])\n",
    "\n",
    "# dimension\n",
    "print(n1.ndim)\n",
    "\n",
    "# size\n",
    "print(n1.size)"
   ]
  },
  {
   "cell_type": "code",
   "execution_count": 15,
   "metadata": {},
   "outputs": [
    {
     "name": "stdout",
     "output_type": "stream",
     "text": [
      "1\n",
      "2\n"
     ]
    }
   ],
   "source": [
    "# 4. \n",
    "\n",
    "n1 = np.random.rand(7)\n",
    "\n",
    "# original dim\n",
    "print(n1.ndim)\n",
    "\n",
    "# changing dimension (used to increase the dimension of the existing array by one more dimension, when used once)\n",
    "n2 = n1[np.newaxis, :]\n",
    "\n",
    "# new dimension\n",
    "print(n2.ndim)"
   ]
  },
  {
   "cell_type": "code",
   "execution_count": 17,
   "metadata": {},
   "outputs": [
    {
     "name": "stdout",
     "output_type": "stream",
     "text": [
      "[[0.04375582 0.88190955 0.39255928]\n",
      " [0.55349663 0.55559009 0.10095381]]\n",
      "[0.04375582 0.88190955 0.39255928 0.55349663 0.55559009 0.10095381]\n"
     ]
    }
   ],
   "source": [
    "# 5.\n",
    "\n",
    "n1 = np.random.rand(3)\n",
    "n2 = np.random.rand(3)\n",
    "\n",
    "# vertical stack\n",
    "print(np.vstack((n1,n2)))\n",
    "\n",
    "# horizontal stack\n",
    "print(np.hstack((n1,n2)))"
   ]
  },
  {
   "cell_type": "code",
   "execution_count": 19,
   "metadata": {},
   "outputs": [
    {
     "name": "stdout",
     "output_type": "stream",
     "text": [
      "(array([1, 2, 3, 4, 5, 6, 8, 9]), array([2, 2, 1, 1, 1, 1, 1, 1], dtype=int64))\n"
     ]
    }
   ],
   "source": [
    "# 6.\n",
    "\n",
    "import numpy as np\n",
    "n = np.array([1,2,3,4,5,1,6,2,8,9])\n",
    "\n",
    "# np.unique returns the unique elements and return_counts gives the count\n",
    "print(np.unique(n,return_counts=True))"
   ]
  }
 ],
 "metadata": {
  "kernelspec": {
   "display_name": "Python 3",
   "language": "python",
   "name": "python3"
  },
  "language_info": {
   "codemirror_mode": {
    "name": "ipython",
    "version": 3
   },
   "file_extension": ".py",
   "mimetype": "text/x-python",
   "name": "python",
   "nbconvert_exporter": "python",
   "pygments_lexer": "ipython3",
   "version": "3.8.3"
  }
 },
 "nbformat": 4,
 "nbformat_minor": 4
}
